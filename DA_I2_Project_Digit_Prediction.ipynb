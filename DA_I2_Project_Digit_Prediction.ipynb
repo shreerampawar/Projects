{
  "nbformat": 4,
  "nbformat_minor": 0,
  "metadata": {
    "colab": {
      "provenance": [],
      "authorship_tag": "ABX9TyPhB7CDbILdmV7UjWmPT6NH",
      "include_colab_link": true
    },
    "kernelspec": {
      "name": "python3",
      "display_name": "Python 3"
    },
    "language_info": {
      "name": "python"
    }
  },
  "cells": [
    {
      "cell_type": "markdown",
      "metadata": {
        "id": "view-in-github",
        "colab_type": "text"
      },
      "source": [
        "<a href=\"https://colab.research.google.com/github/shreerampawar/YBIF/blob/main/DA_I2_Project_Digit_Prediction.ipynb\" target=\"_parent\"><img src=\"https://colab.research.google.com/assets/colab-badge.svg\" alt=\"Open In Colab\"/></a>"
      ]
    },
    {
      "cell_type": "markdown",
      "source": [
        "# **Title of Project**"
      ],
      "metadata": {
        "id": "dqZ-nhxiganh"
      }
    },
    {
      "cell_type": "markdown",
      "source": [
        "**Hand Written Digit Prediction Model**"
      ],
      "metadata": {
        "id": "gScHkw6jjrLo"
      }
    },
    {
      "cell_type": "markdown",
      "source": [
        "## **Objective**"
      ],
      "metadata": {
        "id": "Xns_rCdhh-vZ"
      }
    },
    {
      "cell_type": "markdown",
      "source": [
        "Preparing a Machine Learning model using the method of Linear Regression."
      ],
      "metadata": {
        "id": "9sPvnFM1iI9l"
      }
    },
    {
      "cell_type": "markdown",
      "source": [
        "## **Data Source**"
      ],
      "metadata": {
        "id": "-Vbnt9CciKJP"
      }
    },
    {
      "cell_type": "markdown",
      "source": [
        "This dataset was taken from the YBI Foundation's Github page where public datasets are present."
      ],
      "metadata": {
        "id": "sGcv5WqQiNyl"
      }
    },
    {
      "cell_type": "markdown",
      "source": [
        "## **Import Library**"
      ],
      "metadata": {
        "id": "r7GrZzX0iTlV"
      }
    },
    {
      "cell_type": "code",
      "source": [
        "import pandas as pd"
      ],
      "metadata": {
        "id": "UkK6NH9DiW-X"
      },
      "execution_count": 1,
      "outputs": []
    },
    {
      "cell_type": "code",
      "source": [
        "import numpy as np"
      ],
      "metadata": {
        "id": "36XjHrRfQrF7"
      },
      "execution_count": 2,
      "outputs": []
    },
    {
      "cell_type": "code",
      "source": [
        "import matplotlib.pyplot as plt"
      ],
      "metadata": {
        "id": "eCL7fSeaQrq6"
      },
      "execution_count": 3,
      "outputs": []
    },
    {
      "cell_type": "markdown",
      "source": [
        "## **Import Data**"
      ],
      "metadata": {
        "id": "9lHPQj1XiOUc"
      }
    },
    {
      "cell_type": "code",
      "source": [
        "from sklearn.datasets import load_digits"
      ],
      "metadata": {
        "id": "16iSUOwgn2M3"
      },
      "execution_count": 4,
      "outputs": []
    },
    {
      "cell_type": "code",
      "source": [
        "df = load_digits()"
      ],
      "metadata": {
        "id": "883TPiqMn8Ld"
      },
      "execution_count": 5,
      "outputs": []
    },
    {
      "cell_type": "code",
      "source": [
        "_, axes = plt.subplots(nrows = 1, ncols = 4, figsize = (10, 3))\n",
        "for ax, image, label in zip(axes, df.images, df.target):\n",
        "    ax.set_axis_off()\n",
        "    ax.imshow(image, cmap=plt.cm.gray_r, interpolation = 'nearest')\n",
        "    ax.set_title('Training: %i' % label)"
      ],
      "metadata": {
        "colab": {
          "base_uri": "https://localhost:8080/",
          "height": 227
        },
        "id": "RGceeKRqn80s",
        "outputId": "a61e549c-6e30-4c82-b377-39c3ab88d2f2"
      },
      "execution_count": 6,
      "outputs": [
        {
          "output_type": "display_data",
          "data": {
            "text/plain": [
              "<Figure size 1000x300 with 4 Axes>"
            ],
            "image/png": "[encoded data removed]"
          },
          "metadata": {}
        }
      ]
    },
    {
      "cell_type": "markdown",
      "source": [
        "## **Data Preprocessing**"
      ],
      "metadata": {
        "id": "zy8E6arJRteG"
      }
    },
    {
      "cell_type": "markdown",
      "source": [
        " **Flatten Image**"
      ],
      "metadata": {
        "id": "XZyfaahRoUUB"
      }
    },
    {
      "cell_type": "code",
      "source": [
        "df.images.shape"
      ],
      "metadata": {
        "colab": {
          "base_uri": "https://localhost:8080/"
        },
        "id": "4bFtAADpn-06",
        "outputId": "c62834f1-25c6-4f62-f8b6-209cdf18d583"
      },
      "execution_count": 7,
      "outputs": [
        {
          "output_type": "execute_result",
          "data": {
            "text/plain": [
              "(1797, 8, 8)"
            ]
          },
          "metadata": {},
          "execution_count": 7
        }
      ]
    },
    {
      "cell_type": "code",
      "source": [
        "df.images[0]"
      ],
      "metadata": {
        "colab": {
          "base_uri": "https://localhost:8080/"
        },
        "id": "MLDLgEB-obrr",
        "outputId": "b75c0477-21c9-4e5d-ec6f-2f5c7d2e0d71"
      },
      "execution_count": 8,
      "outputs": [
        {
          "output_type": "execute_result",
          "data": {
            "text/plain": [
              "array([[ 0.,  0.,  5., 13.,  9.,  1.,  0.,  0.],\n",
              "       [ 0.,  0., 13., 15., 10., 15.,  5.,  0.],\n",
              "       [ 0.,  3., 15.,  2.,  0., 11.,  8.,  0.],\n",
              "       [ 0.,  4., 12.,  0.,  0.,  8.,  8.,  0.],\n",
              "       [ 0.,  5.,  8.,  0.,  0.,  9.,  8.,  0.],\n",
              "       [ 0.,  4., 11.,  0.,  1., 12.,  7.,  0.],\n",
              "       [ 0.,  2., 14.,  5., 10., 12.,  0.,  0.],\n",
              "       [ 0.,  0.,  6., 13., 10.,  0.,  0.,  0.]])"
            ]
          },
          "metadata": {},
          "execution_count": 8
        }
      ]
    },
    {
      "cell_type": "code",
      "source": [
        "df.images[0].shape"
      ],
      "metadata": {
        "colab": {
          "base_uri": "https://localhost:8080/"
        },
        "id": "srK6YPqXognW",
        "outputId": "6ccb1b0f-a0cd-4f3f-8722-93a5cb63a485"
      },
      "execution_count": 9,
      "outputs": [
        {
          "output_type": "execute_result",
          "data": {
            "text/plain": [
              "(8, 8)"
            ]
          },
          "metadata": {},
          "execution_count": 9
        }
      ]
    },
    {
      "cell_type": "code",
      "source": [
        "n_samples = len(df.images)\n",
        "data = df.images.reshape((n_samples, -1))"
      ],
      "metadata": {
        "id": "yi0XdxhiolRH"
      },
      "execution_count": 10,
      "outputs": []
    },
    {
      "cell_type": "code",
      "source": [
        "data[0]"
      ],
      "metadata": {
        "colab": {
          "base_uri": "https://localhost:8080/"
        },
        "id": "nFpor6vqoncE",
        "outputId": "9cc7b119-d884-48de-80e4-72ad41ad7bf6"
      },
      "execution_count": 11,
      "outputs": [
        {
          "output_type": "execute_result",
          "data": {
            "text/plain": [
              "array([ 0.,  0.,  5., 13.,  9.,  1.,  0.,  0.,  0.,  0., 13., 15., 10.,\n",
              "       15.,  5.,  0.,  0.,  3., 15.,  2.,  0., 11.,  8.,  0.,  0.,  4.,\n",
              "       12.,  0.,  0.,  8.,  8.,  0.,  0.,  5.,  8.,  0.,  0.,  9.,  8.,\n",
              "        0.,  0.,  4., 11.,  0.,  1., 12.,  7.,  0.,  0.,  2., 14.,  5.,\n",
              "       10., 12.,  0.,  0.,  0.,  0.,  6., 13., 10.,  0.,  0.,  0.])"
            ]
          },
          "metadata": {},
          "execution_count": 11
        }
      ]
    },
    {
      "cell_type": "code",
      "source": [
        "data[0].shape"
      ],
      "metadata": {
        "colab": {
          "base_uri": "https://localhost:8080/"
        },
        "id": "HlobPVARopJc",
        "outputId": "91e0c597-685c-41aa-83f4-283ce35a2daa"
      },
      "execution_count": 12,
      "outputs": [
        {
          "output_type": "execute_result",
          "data": {
            "text/plain": [
              "(64,)"
            ]
          },
          "metadata": {},
          "execution_count": 12
        }
      ]
    },
    {
      "cell_type": "code",
      "source": [
        "data.shape"
      ],
      "metadata": {
        "colab": {
          "base_uri": "https://localhost:8080/"
        },
        "id": "Xgdomf4XorGB",
        "outputId": "6581b6df-5df4-4b3a-89ef-39468ffd6234"
      },
      "execution_count": 13,
      "outputs": [
        {
          "output_type": "execute_result",
          "data": {
            "text/plain": [
              "(1797, 64)"
            ]
          },
          "metadata": {},
          "execution_count": 13
        }
      ]
    },
    {
      "cell_type": "markdown",
      "source": [
        "## **Scaling Data**"
      ],
      "metadata": {
        "id": "7PUnimBoiX-x"
      }
    },
    {
      "cell_type": "code",
      "source": [
        "data.min()"
      ],
      "metadata": {
        "colab": {
          "base_uri": "https://localhost:8080/"
        },
        "id": "kLaJf3Eyosf-",
        "outputId": "ce7d7a88-47b1-428d-f73a-0f761e7f2991"
      },
      "execution_count": 14,
      "outputs": [
        {
          "output_type": "execute_result",
          "data": {
            "text/plain": [
              "0.0"
            ]
          },
          "metadata": {},
          "execution_count": 14
        }
      ]
    },
    {
      "cell_type": "code",
      "source": [
        "data.max()"
      ],
      "metadata": {
        "colab": {
          "base_uri": "https://localhost:8080/"
        },
        "id": "FWJY91dro2AK",
        "outputId": "5b2f0cf4-2284-4c2e-dfd1-0f80183dcdce"
      },
      "execution_count": 15,
      "outputs": [
        {
          "output_type": "execute_result",
          "data": {
            "text/plain": [
              "16.0"
            ]
          },
          "metadata": {},
          "execution_count": 15
        }
      ]
    },
    {
      "cell_type": "code",
      "source": [
        "data = data/16"
      ],
      "metadata": {
        "id": "6BIVbFcMo3YY"
      },
      "execution_count": 16,
      "outputs": []
    },
    {
      "cell_type": "code",
      "source": [
        "data.min()"
      ],
      "metadata": {
        "colab": {
          "base_uri": "https://localhost:8080/"
        },
        "id": "I9OzrCCjo43s",
        "outputId": "082ba7b7-f48c-4329-cb87-719677682602"
      },
      "execution_count": 17,
      "outputs": [
        {
          "output_type": "execute_result",
          "data": {
            "text/plain": [
              "0.0"
            ]
          },
          "metadata": {},
          "execution_count": 17
        }
      ]
    },
    {
      "cell_type": "code",
      "source": [
        "data.max()"
      ],
      "metadata": {
        "colab": {
          "base_uri": "https://localhost:8080/"
        },
        "id": "PxoE6Lcmo6b_",
        "outputId": "2b84ec01-21c5-4897-b4ee-95b2c010132c"
      },
      "execution_count": 18,
      "outputs": [
        {
          "output_type": "execute_result",
          "data": {
            "text/plain": [
              "1.0"
            ]
          },
          "metadata": {},
          "execution_count": 18
        }
      ]
    },
    {
      "cell_type": "code",
      "source": [
        "data[0]"
      ],
      "metadata": {
        "colab": {
          "base_uri": "https://localhost:8080/"
        },
        "id": "RKvR5fgzo7u-",
        "outputId": "ab4fe479-8984-4209-e342-466459db0911"
      },
      "execution_count": 19,
      "outputs": [
        {
          "output_type": "execute_result",
          "data": {
            "text/plain": [
              "array([0.    , 0.    , 0.3125, 0.8125, 0.5625, 0.0625, 0.    , 0.    ,\n",
              "       0.    , 0.    , 0.8125, 0.9375, 0.625 , 0.9375, 0.3125, 0.    ,\n",
              "       0.    , 0.1875, 0.9375, 0.125 , 0.    , 0.6875, 0.5   , 0.    ,\n",
              "       0.    , 0.25  , 0.75  , 0.    , 0.    , 0.5   , 0.5   , 0.    ,\n",
              "       0.    , 0.3125, 0.5   , 0.    , 0.    , 0.5625, 0.5   , 0.    ,\n",
              "       0.    , 0.25  , 0.6875, 0.    , 0.0625, 0.75  , 0.4375, 0.    ,\n",
              "       0.    , 0.125 , 0.875 , 0.3125, 0.625 , 0.75  , 0.    , 0.    ,\n",
              "       0.    , 0.    , 0.375 , 0.8125, 0.625 , 0.    , 0.    , 0.    ])"
            ]
          },
          "metadata": {},
          "execution_count": 19
        }
      ]
    },
    {
      "cell_type": "markdown",
      "source": [
        "## **Train Test Split**"
      ],
      "metadata": {
        "id": "90_0q_Pbi658"
      }
    },
    {
      "cell_type": "code",
      "source": [
        "from sklearn.model_selection import train_test_split"
      ],
      "metadata": {
        "id": "Cc0H-9BGo9N6"
      },
      "execution_count": 20,
      "outputs": []
    },
    {
      "cell_type": "code",
      "source": [
        "xtrain, xtest, ytrain, ytest = train_test_split(data, df.target, test_size = 0.3)"
      ],
      "metadata": {
        "id": "8fl5QMX8pOnV"
      },
      "execution_count": 21,
      "outputs": []
    },
    {
      "cell_type": "code",
      "source": [
        "xtrain.shape, xtest.shape, ytrain.shape, ytest.shape"
      ],
      "metadata": {
        "colab": {
          "base_uri": "https://localhost:8080/"
        },
        "id": "K1p1ef8ZpRdU",
        "outputId": "d4fe4d34-828c-440a-cd3d-253d28e4a051"
      },
      "execution_count": 22,
      "outputs": [
        {
          "output_type": "execute_result",
          "data": {
            "text/plain": [
              "((1257, 64), (540, 64), (1257,), (540,))"
            ]
          },
          "metadata": {},
          "execution_count": 22
        }
      ]
    },
    {
      "cell_type": "markdown",
      "source": [
        "## **Random Forest Model**"
      ],
      "metadata": {
        "id": "UAE2rdwupWgD"
      }
    },
    {
      "cell_type": "code",
      "source": [
        "from sklearn.ensemble import RandomForestClassifier"
      ],
      "metadata": {
        "id": "bgOUmBqmpTDF"
      },
      "execution_count": 23,
      "outputs": []
    },
    {
      "cell_type": "code",
      "source": [
        "rf = RandomForestClassifier()"
      ],
      "metadata": {
        "id": "H81St4Pwpdel"
      },
      "execution_count": 24,
      "outputs": []
    },
    {
      "cell_type": "markdown",
      "source": [
        "**Train or Fit Model**"
      ],
      "metadata": {
        "id": "HDUPjPv1pjXY"
      }
    },
    {
      "cell_type": "code",
      "source": [
        "rf.fit(xtrain, ytrain)"
      ],
      "metadata": {
        "colab": {
          "base_uri": "https://localhost:8080/",
          "height": 74
        },
        "id": "71LDpVx6pfKU",
        "outputId": "3efb53dd-255b-46f1-b0ef-8087615f057e"
      },
      "execution_count": 25,
      "outputs": [
        {
          "output_type": "execute_result",
          "data": {
            "text/plain": [
              "RandomForestClassifier()"
            ],
            "text/html": [
              "<style>#sk-container-id-1 {color: black;background-color: white;}#sk-container-id-1 pre{padding: 0;}#sk-container-id-1 div.sk-toggleable {background-color: white;}#sk-container-id-1 label.sk-toggleable__label {cursor: pointer;display: block;width: 100%;margin-bottom: 0;padding: 0.3em;box-sizing: border-box;text-align: center;}#sk-container-id-1 label.sk-toggleable__label-arrow:before {content: \"▸\";float: left;margin-right: 0.25em;color: #696969;}#sk-container-id-1 label.sk-toggleable__label-arrow:hover:before {color: black;}#sk-container-id-1 div.sk-estimator:hover label.sk-toggleable__label-arrow:before {color: black;}#sk-container-id-1 div.sk-toggleable__content {max-height: 0;max-width: 0;overflow: hidden;text-align: left;background-color: #f0f8ff;}#sk-container-id-1 div.sk-toggleable__content pre {margin: 0.2em;color: black;border-radius: 0.25em;background-color: #f0f8ff;}#sk-container-id-1 input.sk-toggleable__control:checked~div.sk-toggleable__content {max-height: 200px;max-width: 100%;overflow: auto;}#sk-container-id-1 input.sk-toggleable__control:checked~label.sk-toggleable__label-arrow:before {content: \"▾\";}#sk-container-id-1 div.sk-estimator input.sk-toggleable__control:checked~label.sk-toggleable__label {background-color: #d4ebff;}#sk-container-id-1 div.sk-label input.sk-toggleable__control:checked~label.sk-toggleable__label {background-color: #d4ebff;}#sk-container-id-1 input.sk-hidden--visually {border: 0;clip: rect(1px 1px 1px 1px);clip: rect(1px, 1px, 1px, 1px);height: 1px;margin: -1px;overflow: hidden;padding: 0;position: absolute;width: 1px;}#sk-container-id-1 div.sk-estimator {font-family: monospace;background-color: #f0f8ff;border: 1px dotted black;border-radius: 0.25em;box-sizing: border-box;margin-bottom: 0.5em;}#sk-container-id-1 div.sk-estimator:hover {background-color: #d4ebff;}#sk-container-id-1 div.sk-parallel-item::after {content: \"\";width: 100%;border-bottom: 1px solid gray;flex-grow: 1;}#sk-container-id-1 div.sk-label:hover label.sk-toggleable__label {background-color: #d4ebff;}#sk-container-id-1 div.sk-serial::before {content: \"\";position: absolute;border-left: 1px solid gray;box-sizing: border-box;top: 0;bottom: 0;left: 50%;z-index: 0;}#sk-container-id-1 div.sk-serial {display: flex;flex-direction: column;align-items: center;background-color: white;padding-right: 0.2em;padding-left: 0.2em;position: relative;}#sk-container-id-1 div.sk-item {position: relative;z-index: 1;}#sk-container-id-1 div.sk-parallel {display: flex;align-items: stretch;justify-content: center;background-color: white;position: relative;}#sk-container-id-1 div.sk-item::before, #sk-container-id-1 div.sk-parallel-item::before {content: \"\";position: absolute;border-left: 1px solid gray;box-sizing: border-box;top: 0;bottom: 0;left: 50%;z-index: -1;}#sk-container-id-1 div.sk-parallel-item {display: flex;flex-direction: column;z-index: 1;position: relative;background-color: white;}#sk-container-id-1 div.sk-parallel-item:first-child::after {align-self: flex-end;width: 50%;}#sk-container-id-1 div.sk-parallel-item:last-child::after {align-self: flex-start;width: 50%;}#sk-container-id-1 div.sk-parallel-item:only-child::after {width: 0;}#sk-container-id-1 div.sk-dashed-wrapped {border: 1px dashed gray;margin: 0 0.4em 0.5em 0.4em;box-sizing: border-box;padding-bottom: 0.4em;background-color: white;}#sk-container-id-1 div.sk-label label {font-family: monospace;font-weight: bold;display: inline-block;line-height: 1.2em;}#sk-container-id-1 div.sk-label-container {text-align: center;}#sk-container-id-1 div.sk-container {/* jupyter's `normalize.less` sets `[hidden] { display: none; }` but bootstrap.min.css set `[hidden] { display: none !important; }` so we also need the `!important` here to be able to override the default hidden behavior on the sphinx rendered scikit-learn.org. See: https://github.com/scikit-learn/scikit-learn/issues/21755 */display: inline-block !important;position: relative;}#sk-container-id-1 div.sk-text-repr-fallback {display: none;}</style><div id=\"sk-container-id-1\" class=\"sk-top-container\"><div class=\"sk-text-repr-fallback\"><pre>RandomForestClassifier()</pre><b>In a Jupyter environment, please rerun this cell to show the HTML representation or trust the notebook. <br />On GitHub, the HTML representation is unable to render, please try loading this page with nbviewer.org.</b></div><div class=\"sk-container\" hidden><div class=\"sk-item\"><div class=\"sk-estimator sk-toggleable\"><input class=\"sk-toggleable__control sk-hidden--visually\" id=\"sk-estimator-id-1\" type=\"checkbox\" checked><label for=\"sk-estimator-id-1\" class=\"sk-toggleable__label sk-toggleable__label-arrow\">RandomForestClassifier</label><div class=\"sk-toggleable__content\"><pre>RandomForestClassifier()</pre></div></div></div></div></div>"
            ]
          },
          "metadata": {},
          "execution_count": 25
        }
      ]
    },
    {
      "cell_type": "markdown",
      "source": [
        "## **Prediction**"
      ],
      "metadata": {
        "id": "XsgsHsm8pqib"
      }
    },
    {
      "cell_type": "markdown",
      "source": [
        "**Predict test data**"
      ],
      "metadata": {
        "id": "o5VVYuHnpxYw"
      }
    },
    {
      "cell_type": "code",
      "source": [
        "y_pred = rf.predict(xtest)"
      ],
      "metadata": {
        "id": "d4iXtklRpgtL"
      },
      "execution_count": 26,
      "outputs": []
    },
    {
      "cell_type": "code",
      "source": [
        "y_pred"
      ],
      "metadata": {
        "colab": {
          "base_uri": "https://localhost:8080/"
        },
        "id": "2ERPz4zlp36a",
        "outputId": "63f48e1f-8e34-4ade-e9f2-2c1f36e6e391"
      },
      "execution_count": 27,
      "outputs": [
        {
          "output_type": "execute_result",
          "data": {
            "text/plain": [
              "array([6, 1, 2, 9, 7, 1, 8, 4, 0, 4, 9, 8, 8, 6, 0, 4, 8, 7, 7, 9, 8, 2,\n",
              "       9, 7, 5, 1, 0, 0, 0, 9, 1, 4, 9, 3, 5, 6, 9, 3, 0, 5, 9, 0, 5, 6,\n",
              "       7, 4, 9, 4, 9, 7, 8, 2, 6, 5, 3, 7, 4, 3, 5, 0, 6, 0, 5, 1, 5, 5,\n",
              "       1, 3, 5, 6, 8, 3, 1, 4, 7, 1, 1, 9, 6, 5, 6, 3, 0, 8, 0, 3, 3, 5,\n",
              "       3, 6, 4, 7, 7, 0, 0, 0, 6, 1, 7, 1, 7, 3, 8, 5, 9, 8, 6, 4, 4, 8,\n",
              "       4, 4, 4, 6, 1, 0, 0, 7, 7, 1, 6, 2, 6, 7, 9, 4, 7, 4, 0, 2, 8, 1,\n",
              "       0, 3, 1, 9, 1, 9, 3, 2, 8, 5, 7, 0, 9, 4, 3, 6, 5, 3, 4, 1, 5, 0,\n",
              "       4, 5, 6, 3, 0, 1, 4, 9, 6, 8, 9, 7, 9, 1, 9, 0, 5, 9, 6, 5, 3, 1,\n",
              "       6, 8, 8, 5, 9, 5, 8, 3, 4, 9, 0, 4, 0, 3, 5, 6, 2, 6, 4, 3, 8, 5,\n",
              "       7, 0, 5, 0, 7, 7, 7, 0, 8, 4, 0, 4, 2, 1, 5, 0, 9, 2, 4, 1, 3, 2,\n",
              "       5, 1, 4, 3, 8, 9, 6, 5, 7, 2, 1, 9, 4, 2, 4, 2, 1, 4, 7, 7, 9, 2,\n",
              "       2, 6, 3, 0, 3, 2, 7, 6, 4, 9, 7, 6, 5, 2, 2, 4, 8, 1, 8, 4, 0, 3,\n",
              "       4, 0, 0, 8, 9, 8, 4, 1, 1, 4, 1, 0, 6, 7, 1, 6, 2, 8, 3, 7, 9, 1,\n",
              "       5, 0, 0, 4, 5, 0, 7, 9, 9, 6, 8, 8, 9, 1, 9, 1, 1, 4, 6, 5, 5, 5,\n",
              "       8, 8, 0, 0, 7, 1, 7, 5, 7, 5, 2, 0, 8, 8, 4, 8, 3, 9, 6, 3, 3, 2,\n",
              "       6, 6, 9, 4, 3, 0, 8, 5, 1, 9, 3, 5, 1, 6, 6, 2, 7, 1, 5, 6, 4, 2,\n",
              "       5, 9, 0, 2, 3, 8, 3, 4, 2, 2, 3, 9, 0, 0, 3, 8, 5, 5, 1, 6, 4, 2,\n",
              "       2, 5, 5, 7, 9, 3, 1, 0, 2, 5, 4, 6, 0, 8, 2, 3, 8, 3, 6, 1, 7, 5,\n",
              "       1, 9, 3, 5, 6, 6, 0, 1, 3, 8, 1, 8, 4, 0, 3, 4, 6, 5, 7, 7, 4, 5,\n",
              "       2, 7, 8, 8, 5, 9, 4, 9, 4, 7, 8, 8, 1, 1, 9, 7, 2, 8, 5, 8, 6, 2,\n",
              "       5, 5, 0, 8, 3, 3, 8, 1, 2, 7, 8, 7, 2, 9, 7, 8, 0, 3, 6, 6, 0, 3,\n",
              "       6, 1, 4, 9, 4, 5, 0, 2, 9, 7, 7, 2, 1, 8, 6, 5, 2, 1, 7, 9, 2, 5,\n",
              "       7, 7, 0, 6, 6, 8, 1, 2, 8, 2, 3, 9, 3, 8, 9, 2, 4, 0, 9, 3, 8, 7,\n",
              "       1, 2, 3, 7, 3, 5, 6, 1, 0, 5, 3, 7, 0, 7, 5, 2, 0, 5, 8, 3, 8, 1,\n",
              "       5, 0, 0, 1, 8, 9, 0, 9, 0, 4, 3, 8])"
            ]
          },
          "metadata": {},
          "execution_count": 27
        }
      ]
    },
    {
      "cell_type": "markdown",
      "source": [
        "## **Model Evaluation**"
      ],
      "metadata": {
        "id": "30ONViXrp9Vx"
      }
    },
    {
      "cell_type": "markdown",
      "source": [
        "**Model Accuracy**"
      ],
      "metadata": {
        "id": "ALBToZJDqCbh"
      }
    },
    {
      "cell_type": "code",
      "source": [
        "from sklearn.metrics import confusion_matrix, classification_report"
      ],
      "metadata": {
        "id": "kObYwJqep5PT"
      },
      "execution_count": 28,
      "outputs": []
    },
    {
      "cell_type": "code",
      "source": [
        "confusion_matrix(ytest, y_pred)"
      ],
      "metadata": {
        "colab": {
          "base_uri": "https://localhost:8080/"
        },
        "id": "ckf0IcWKqG_a",
        "outputId": "1484c7eb-0d37-47d9-a695-f9beba88c207"
      },
      "execution_count": 29,
      "outputs": [
        {
          "output_type": "execute_result",
          "data": {
            "text/plain": [
              "array([[60,  0,  0,  0,  0,  0,  0,  0,  0,  0],\n",
              "       [ 0, 49,  0,  0,  0,  0,  0,  0,  0,  1],\n",
              "       [ 0,  1, 44,  0,  0,  0,  0,  0,  0,  0],\n",
              "       [ 0,  0,  0, 53,  0,  0,  0,  1,  0,  1],\n",
              "       [ 0,  0,  0,  0, 52,  0,  0,  0,  0,  0],\n",
              "       [ 0,  0,  0,  0,  0, 59,  0,  0,  0,  1],\n",
              "       [ 1,  2,  0,  0,  0,  0, 50,  0,  0,  0],\n",
              "       [ 0,  0,  0,  0,  0,  0,  0, 51,  0,  1],\n",
              "       [ 0,  2,  0,  0,  0,  0,  0,  1, 58,  0],\n",
              "       [ 0,  1,  0,  0,  1,  1,  0,  0,  0, 49]])"
            ]
          },
          "metadata": {},
          "execution_count": 29
        }
      ]
    },
    {
      "cell_type": "code",
      "source": [
        "print(classification_report(ytest, y_pred))"
      ],
      "metadata": {
        "colab": {
          "base_uri": "https://localhost:8080/"
        },
        "id": "lHr5XjHpqIMW",
        "outputId": "0f3b191c-b1a7-455a-95de-fce864606b4c"
      },
      "execution_count": 30,
      "outputs": [
        {
          "output_type": "stream",
          "name": "stdout",
          "text": [
            "              precision    recall  f1-score   support\n",
            "\n",
            "           0       0.98      1.00      0.99        60\n",
            "           1       0.89      0.98      0.93        50\n",
            "           2       1.00      0.98      0.99        45\n",
            "           3       1.00      0.96      0.98        55\n",
            "           4       0.98      1.00      0.99        52\n",
            "           5       0.98      0.98      0.98        60\n",
            "           6       1.00      0.94      0.97        53\n",
            "           7       0.96      0.98      0.97        52\n",
            "           8       1.00      0.95      0.97        61\n",
            "           9       0.92      0.94      0.93        52\n",
            "\n",
            "    accuracy                           0.97       540\n",
            "   macro avg       0.97      0.97      0.97       540\n",
            "weighted avg       0.97      0.97      0.97       540\n",
            "\n"
          ]
        }
      ]
    },
    {
      "cell_type": "markdown",
      "source": [
        "## **Explaination**"
      ],
      "metadata": {
        "id": "io1dZbB9qNZL"
      }
    },
    {
      "cell_type": "markdown",
      "source": [
        "Digit recognition, also known as Handwritten Digit Prediction or Digit Classification, involves instructing a computer to interpret and comprehend handwritten numerical characters in a manner similar to our own recognition abilities. Picture having a collection of images, each depicting a handwritten digit ranging from 0 to 9. The objective is to educate the computer on how to analyze these images and determine the specific digit in each one. The images are segregated into two sets: one for educating the computer (training set) and another for evaluating its proficiency (testing set). We employ an intelligent approach, akin to a specialized problem-solving technique, to enable the computer to grasp the patterns and distinctions present in the images. While it learns, we provide guidance by indicating the accuracy of its estimations. After achieving proficiency in this capability, we present it with fresh images it hasn't encountered during training, and it endeavors to make accurate predictions regarding the digits. We evaluate its predictions to gauge its performance, utilizing uncomplicated assessments to verify the correctness of its responses. This undertaking aids in the development of a computer with the ability to recognize handwritten digits, which has real-world applications such as reading zip codes or assisting computers in comprehending human handwriting. Essentially, it entails instructing the computer in the art of reading handwritten content."
      ],
      "metadata": {
        "id": "_bSsXMiEqS95"
      }
    }
  ]
}