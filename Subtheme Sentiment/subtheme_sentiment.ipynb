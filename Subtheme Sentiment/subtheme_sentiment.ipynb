{
 "cells": [
  {
   "attachments": {},
   "cell_type": "markdown",
   "metadata": {},
   "source": [
    "# Import necessary libraries\n",
    "First, we import the necessary libraries including pandas and TensorFlow."
   ]
  },
  {
   "cell_type": "code",
   "execution_count": 1,
   "metadata": {},
   "outputs": [
    {
     "name": "stdout",
     "output_type": "stream",
     "text": [
      "WARNING:tensorflow:From c:\\Users\\HP\\AppData\\Local\\Programs\\Python\\Python310\\lib\\site-packages\\keras\\src\\losses.py:2976: The name tf.losses.sparse_softmax_cross_entropy is deprecated. Please use tf.compat.v1.losses.sparse_softmax_cross_entropy instead.\n",
      "\n"
     ]
    }
   ],
   "source": [
    "import pandas as pd\n",
    "import tensorflow as tf"
   ]
  },
  {
   "attachments": {},
   "cell_type": "markdown",
   "metadata": {},
   "source": [
    "# Load and preview the dataset\n",
    "We load the dataset from a CSV file and preview the first few rows."
   ]
  },
  {
   "cell_type": "code",
   "execution_count": 206,
   "metadata": {},
   "outputs": [],
   "source": [
    "df = pd.read_csv('https://raw.githubusercontent.com/shreerampawar/Projects/main/Subtheme%20Sentiment/Evaluation-dataset.csv', header = None)"
   ]
  },
  {
   "attachments": {},
   "cell_type": "markdown",
   "metadata": {},
   "source": [
    "# Check the shape of the dataset\n",
    "We check the number of rows and columns in the dataset."
   ]
  },
  {
   "cell_type": "code",
   "execution_count": 207,
   "metadata": {},
   "outputs": [
    {
     "data": {
      "text/html": [
       "<div>\n",
       "<style scoped>\n",
       "    .dataframe tbody tr th:only-of-type {\n",
       "        vertical-align: middle;\n",
       "    }\n",
       "\n",
       "    .dataframe tbody tr th {\n",
       "        vertical-align: top;\n",
       "    }\n",
       "\n",
       "    .dataframe thead th {\n",
       "        text-align: right;\n",
       "    }\n",
       "</style>\n",
       "<table border=\"1\" class=\"dataframe\">\n",
       "  <thead>\n",
       "    <tr style=\"text-align: right;\">\n",
       "      <th></th>\n",
       "      <th>0</th>\n",
       "      <th>1</th>\n",
       "      <th>2</th>\n",
       "      <th>3</th>\n",
       "      <th>4</th>\n",
       "      <th>5</th>\n",
       "      <th>6</th>\n",
       "      <th>7</th>\n",
       "      <th>8</th>\n",
       "      <th>9</th>\n",
       "      <th>10</th>\n",
       "      <th>11</th>\n",
       "      <th>12</th>\n",
       "      <th>13</th>\n",
       "      <th>14</th>\n",
       "    </tr>\n",
       "  </thead>\n",
       "  <tbody>\n",
       "    <tr>\n",
       "      <th>0</th>\n",
       "      <td>Tires where delivered to the garage of my choi...</td>\n",
       "      <td>garage service positive</td>\n",
       "      <td>ease of booking positive</td>\n",
       "      <td>NaN</td>\n",
       "      <td>NaN</td>\n",
       "      <td>NaN</td>\n",
       "      <td>NaN</td>\n",
       "      <td>NaN</td>\n",
       "      <td>NaN</td>\n",
       "      <td>NaN</td>\n",
       "      <td>NaN</td>\n",
       "      <td>NaN</td>\n",
       "      <td>NaN</td>\n",
       "      <td>NaN</td>\n",
       "      <td>NaN</td>\n",
       "    </tr>\n",
       "    <tr>\n",
       "      <th>1</th>\n",
       "      <td>Easy Tyre Selection Process, Competitive Prici...</td>\n",
       "      <td>garage service positive</td>\n",
       "      <td>value for money positive</td>\n",
       "      <td>NaN</td>\n",
       "      <td>NaN</td>\n",
       "      <td>NaN</td>\n",
       "      <td>NaN</td>\n",
       "      <td>NaN</td>\n",
       "      <td>NaN</td>\n",
       "      <td>NaN</td>\n",
       "      <td>NaN</td>\n",
       "      <td>NaN</td>\n",
       "      <td>NaN</td>\n",
       "      <td>NaN</td>\n",
       "      <td>NaN</td>\n",
       "    </tr>\n",
       "    <tr>\n",
       "      <th>2</th>\n",
       "      <td>Very easy to use and good value for money.</td>\n",
       "      <td>value for money positive</td>\n",
       "      <td>NaN</td>\n",
       "      <td>NaN</td>\n",
       "      <td>NaN</td>\n",
       "      <td>NaN</td>\n",
       "      <td>NaN</td>\n",
       "      <td>NaN</td>\n",
       "      <td>NaN</td>\n",
       "      <td>NaN</td>\n",
       "      <td>NaN</td>\n",
       "      <td>NaN</td>\n",
       "      <td>NaN</td>\n",
       "      <td>NaN</td>\n",
       "      <td>NaN</td>\n",
       "    </tr>\n",
       "    <tr>\n",
       "      <th>3</th>\n",
       "      <td>Really easy and convenient to arrange</td>\n",
       "      <td>ease of booking positive</td>\n",
       "      <td>NaN</td>\n",
       "      <td>NaN</td>\n",
       "      <td>NaN</td>\n",
       "      <td>NaN</td>\n",
       "      <td>NaN</td>\n",
       "      <td>NaN</td>\n",
       "      <td>NaN</td>\n",
       "      <td>NaN</td>\n",
       "      <td>NaN</td>\n",
       "      <td>NaN</td>\n",
       "      <td>NaN</td>\n",
       "      <td>NaN</td>\n",
       "      <td>NaN</td>\n",
       "    </tr>\n",
       "    <tr>\n",
       "      <th>4</th>\n",
       "      <td>It was so easy to select tyre sizes and arrang...</td>\n",
       "      <td>location positive</td>\n",
       "      <td>value for money positive</td>\n",
       "      <td>ease of booking positive</td>\n",
       "      <td>NaN</td>\n",
       "      <td>NaN</td>\n",
       "      <td>NaN</td>\n",
       "      <td>NaN</td>\n",
       "      <td>NaN</td>\n",
       "      <td>NaN</td>\n",
       "      <td>NaN</td>\n",
       "      <td>NaN</td>\n",
       "      <td>NaN</td>\n",
       "      <td>NaN</td>\n",
       "      <td>NaN</td>\n",
       "    </tr>\n",
       "  </tbody>\n",
       "</table>\n",
       "</div>"
      ],
      "text/plain": [
       "                                                  0   \\\n",
       "0  Tires where delivered to the garage of my choi...   \n",
       "1  Easy Tyre Selection Process, Competitive Prici...   \n",
       "2         Very easy to use and good value for money.   \n",
       "3              Really easy and convenient to arrange   \n",
       "4  It was so easy to select tyre sizes and arrang...   \n",
       "\n",
       "                         1                         2   \\\n",
       "0   garage service positive  ease of booking positive   \n",
       "1   garage service positive  value for money positive   \n",
       "2  value for money positive                       NaN   \n",
       "3  ease of booking positive                       NaN   \n",
       "4         location positive  value for money positive   \n",
       "\n",
       "                         3    4    5    6    7    8    9    10   11   12   13  \\\n",
       "0                       NaN  NaN  NaN  NaN  NaN  NaN  NaN  NaN  NaN  NaN  NaN   \n",
       "1                       NaN  NaN  NaN  NaN  NaN  NaN  NaN  NaN  NaN  NaN  NaN   \n",
       "2                       NaN  NaN  NaN  NaN  NaN  NaN  NaN  NaN  NaN  NaN  NaN   \n",
       "3                       NaN  NaN  NaN  NaN  NaN  NaN  NaN  NaN  NaN  NaN  NaN   \n",
       "4  ease of booking positive  NaN  NaN  NaN  NaN  NaN  NaN  NaN  NaN  NaN  NaN   \n",
       "\n",
       "    14  \n",
       "0  NaN  \n",
       "1  NaN  \n",
       "2  NaN  \n",
       "3  NaN  \n",
       "4  NaN  "
      ]
     },
     "execution_count": 207,
     "metadata": {},
     "output_type": "execute_result"
    }
   ],
   "source": [
    "df.head()"
   ]
  },
  {
   "cell_type": "code",
   "execution_count": 4,
   "metadata": {},
   "outputs": [
    {
     "data": {
      "text/plain": [
       "(10132, 15)"
      ]
     },
     "execution_count": 4,
     "metadata": {},
     "output_type": "execute_result"
    }
   ],
   "source": [
    "df.shape"
   ]
  },
  {
   "attachments": {},
   "cell_type": "markdown",
   "metadata": {},
   "source": [
    "# Check for missing values\n",
    "We check for any missing values in the dataset.\n"
   ]
  },
  {
   "cell_type": "code",
   "execution_count": 5,
   "metadata": {},
   "outputs": [
    {
     "data": {
      "text/plain": [
       "0         0\n",
       "1      2003\n",
       "2      5893\n",
       "3      8594\n",
       "4      9687\n",
       "5     10004\n",
       "6     10096\n",
       "7     10119\n",
       "8     10124\n",
       "9     10128\n",
       "10    10131\n",
       "11    10131\n",
       "12    10131\n",
       "13    10131\n",
       "14    10131\n",
       "dtype: int64"
      ]
     },
     "execution_count": 5,
     "metadata": {},
     "output_type": "execute_result"
    }
   ],
   "source": [
    "df.isna().sum()"
   ]
  },
  {
   "attachments": {},
   "cell_type": "markdown",
   "metadata": {},
   "source": [
    "# Fill missing values\n",
    "We fill any missing values with an empty string.\n"
   ]
  },
  {
   "cell_type": "code",
   "execution_count": 6,
   "metadata": {},
   "outputs": [],
   "source": [
    "df.fillna('', inplace=True)"
   ]
  },
  {
   "cell_type": "code",
   "execution_count": 7,
   "metadata": {},
   "outputs": [
    {
     "data": {
      "text/plain": [
       "Index([0, 1, 2, 3, 4, 5, 6, 7, 8, 9, 10, 11, 12, 13, 14], dtype='int64')"
      ]
     },
     "execution_count": 7,
     "metadata": {},
     "output_type": "execute_result"
    }
   ],
   "source": [
    "df.columns"
   ]
  },
  {
   "attachments": {},
   "cell_type": "markdown",
   "metadata": {},
   "source": [
    "# Assign column names\n",
    "We create a list of column names based on the number of columns and assign these names to the DataFrame.\n"
   ]
  },
  {
   "cell_type": "code",
   "execution_count": 8,
   "metadata": {},
   "outputs": [],
   "source": [
    "num_columns = len(df.columns)\n",
    "column_names = [f'subsen_{i}' for i in range(1, num_columns)]\n",
    "# Assign column names\n",
    "df.columns = ['review_text'] + column_names\n",
    "# df.columns = column_names\n",
    "df.columns.values[0] = 'comment_text'"
   ]
  },
  {
   "attachments": {},
   "cell_type": "markdown",
   "metadata": {},
   "source": [
    "# Count unique labels\n",
    "We count the number of unique labels in the dataset.\n"
   ]
  },
  {
   "cell_type": "code",
   "execution_count": 9,
   "metadata": {},
   "outputs": [
    {
     "name": "stdout",
     "output_type": "stream",
     "text": [
      "Number of unique labels: 107\n"
     ]
    }
   ],
   "source": [
    "unique_labels = df.iloc[:, 1:14].stack().unique()\n",
    "num_unique_labels = len(unique_labels)\n",
    "print(\"Number of unique labels:\", num_unique_labels)\n",
    "label_counts = df.iloc[:, 1:14].stack().value_counts()\n"
   ]
  },
  {
   "attachments": {},
   "cell_type": "markdown",
   "metadata": {},
   "source": [
    "# Count the occurrences of each label\n",
    "We count how many times each label appears in the dataset.\n"
   ]
  },
  {
   "cell_type": "code",
   "execution_count": 11,
   "metadata": {},
   "outputs": [
    {
     "name": "stdout",
     "output_type": "stream",
     "text": [
      "Count of all labels:\n",
      ": 117172\n",
      "value for money positive: 4780\n",
      "garage service positive: 2031\n",
      "ease of booking positive: 1187\n",
      "location positive: 1063\n",
      "length of fitting positive: 657\n",
      "delivery punctuality positive: 453\n",
      "tyre quality positive: 434\n",
      "garage service negative: 423\n",
      "change of date negative: 277\n",
      "wait time positive: 274\n",
      "delivery punctuality negative: 250\n",
      "advisoragent service positive: 233\n",
      "ease of booking negative: 227\n",
      "mobile fitter positive: 225\n",
      "advisor/agent service positive: 202\n",
      "value for money negative: 136\n",
      "wait time negative: 135\n",
      "damage negative: 127\n",
      "advisoragent service negative: 125\n",
      "booking confusion negative: 119\n",
      "discounts positive: 115\n",
      "length of fitting negative: 109\n",
      "extra charges positive: 85\n",
      "response time negative: 77\n",
      "late notice negative: 76\n",
      "incorrect tyres sent negative: 70\n",
      "advisor/agent service negative: 47\n",
      "extra charges negative: 46\n",
      "change of time negative: 42\n",
      "no stock negative: 42\n",
      "tyre quality negative: 40\n",
      "response time positive: 34\n",
      "facilities positive: 33\n",
      "mobile fitter negative: 28\n",
      "refund positive: 28\n",
      "discounts negative: 28\n",
      "location negative: 27\n",
      "refund negative: 25\n",
      "call wait time negative: 24\n",
      "balancing negative: 24\n",
      "change of date positive: 21\n",
      "facilities negative: 18\n",
      "refund not actioned negative: 14\n",
      "mobile fitter didn't arrive negative: 14\n",
      "balancing positive: 13\n",
      "refund timescale negative: 10\n",
      "tyre age/dot code negative: 9\n",
      "discount not applied negative: 9\n",
      "tyre agedot code negative: 8\n",
      "refund timescale positive: 6\n",
      "failed payment negative: 5\n",
      "tyre agedot code positive: 2\n",
      "booking confusion positive: 2\n",
      "incorrect tyres sent positive: 2\n",
      " good price: 2\n",
      " easy to browse selection of tyres before making a choice: 1\n",
      " simple booking for fitting procedure.: 1\n",
      " simple fitting procedure: 1\n",
      " ability to browse through various makes of tyres before making a decision: 1\n",
      " good range and competitive prices on website: 1\n",
      " the site is easy to use: 1\n",
      " it feels more transparent than buying from a mechanic based on their opinion.: 1\n",
      "): 1\n",
      " and both times have been good experiences.: 1\n",
      " hassle free: 1\n",
      "no stock positive: 1\n",
      " staff were courteous: 1\n",
      "no issues: 1\n",
      " really good prices: 1\n",
      " faster than dealerships to arrange supply and partnership with ATS works well .: 1\n",
      " won’t be using anyone else.: 1\n",
      " wide choice of tyres at great prices including delivery and fitting.: 1\n",
      " good prices: 1\n",
      " recommended a great local shop for fitting: 1\n",
      " my tyre supplier of choice!.: 1\n",
      " and an excellent service from the garage who fitted the tyre.: 1\n",
      " the process was simple and quick.Regular offers make it easy to find premium tyres at decent prices.: 1\n",
      " cheaper than anything else I have found by some way.: 1\n",
      " really friendly and efficient service.: 1\n",
      " simple to use website: 1\n",
      " Cheapest price: 1\n",
      " Great garage fitted them: 1\n",
      "late notice positive: 1\n",
      "failed payment positive: 1\n",
      "discount not applied positive: 1\n",
      "change of time positive: 1\n",
      "mobile fitter didn't arrive positive: 1\n",
      "refund not actioned positive: 1\n",
      " telephone help avaiable if required.: 1\n",
      " good service: 1\n",
      " clean reception area and free coffee: 1\n",
      " polite staff: 1\n",
      " great price.: 1\n",
      " fitting took a long time.: 1\n",
      " keep it up! Will definitely buy from you again.: 1\n",
      " they looked grey and old (but unused) not at all how new tyres normally look. Not surprising when I inspected the 'Dot Date' and it was 4517 (ie tyres manufactured in week 45 of 2017.Queried this with [REDACTED] who told me that they have many different suppliers and do not check the age of the tyres.They could re-order but no guarantee that the replacements would be any newer. Not at all happy and requested a refund which they say they will do.: 1\n",
      " good communication: 1\n",
      " prompt deliveries...: 1\n",
      " easily navigable web site: 1\n",
      " slick delivery service and good fitter.: 1\n",
      " tje garage i choice to go to in order to have the tyres fitted was nit that good and i certainly will not be using them again.: 1\n",
      " good local fitting services: 1\n",
      "call wait time positive: 1\n",
      " Garage was quick & efficient with fitting of tyres: 1\n",
      " only 8 as the garage was unable to fit the tyres in the allotted time and I had to wait over an hour.: 1\n",
      " one tyre with dangerously low air pressure. Asked the garage to top up the tyre and check the other three. They did top up the one tyre but didn't bother to check the others. When I checked the tyres 10 minutes later all four tyres had varying pressures (from 29 to 37.5). I emailed both companies and have not received an apology from either. I will never use Lavender Motors again (they shouldn't be in business) and likely not [REDACTED].com either.: 1\n"
     ]
    }
   ],
   "source": [
    "print(\"Count of all labels:\")\n",
    "for label, count in label_counts.items():\n",
    "    print(f\"{label}: {count}\")\n",
    "# Count the number of non-empty labels for each entry, excluding the placeholder value\n",
    "df['num_labels'] = df.iloc[:, 1:].apply(lambda row: row[row != ''].count(), axis=1)\n"
   ]
  },
  {
   "attachments": {},
   "cell_type": "markdown",
   "metadata": {},
   "source": [
    "# Count of entries per label\n",
    "We count the number of entries per label.\n"
   ]
  },
  {
   "cell_type": "code",
   "execution_count": 12,
   "metadata": {},
   "outputs": [
    {
     "name": "stdout",
     "output_type": "stream",
     "text": [
      "Number of Labels : Number of Entries\n",
      "0 : 2003 entries\n",
      "1 : 3890 entries\n",
      "2 : 2701 entries\n",
      "3 : 1093 entries\n",
      "4 : 316 entries\n",
      "5 : 93 entries\n",
      "6 : 23 entries\n",
      "7 : 5 entries\n",
      "8 : 5 entries\n",
      "9 : 2 entries\n",
      "14 : 1 entries\n"
     ]
    }
   ],
   "source": [
    "label_counts = df['num_labels'].value_counts().sort_index()\n",
    "print(\"Number of Labels : Number of Entries\")\n",
    "for num_labels, count in label_counts.items():\n",
    "    print(f\"{num_labels} : {count} entries\")\n"
   ]
  },
  {
   "cell_type": "code",
   "execution_count": 14,
   "metadata": {},
   "outputs": [
    {
     "data": {
      "text/html": [
       "<div>\n",
       "<style scoped>\n",
       "    .dataframe tbody tr th:only-of-type {\n",
       "        vertical-align: middle;\n",
       "    }\n",
       "\n",
       "    .dataframe tbody tr th {\n",
       "        vertical-align: top;\n",
       "    }\n",
       "\n",
       "    .dataframe thead th {\n",
       "        text-align: right;\n",
       "    }\n",
       "</style>\n",
       "<table border=\"1\" class=\"dataframe\">\n",
       "  <thead>\n",
       "    <tr style=\"text-align: right;\">\n",
       "      <th></th>\n",
       "      <th>comment_text</th>\n",
       "      <th>subsen_1</th>\n",
       "      <th>subsen_2</th>\n",
       "      <th>subsen_3</th>\n",
       "      <th>subsen_4</th>\n",
       "      <th>subsen_5</th>\n",
       "      <th>subsen_6</th>\n",
       "      <th>subsen_7</th>\n",
       "      <th>subsen_8</th>\n",
       "      <th>subsen_9</th>\n",
       "      <th>subsen_10</th>\n",
       "      <th>subsen_11</th>\n",
       "      <th>subsen_12</th>\n",
       "      <th>subsen_13</th>\n",
       "      <th>subsen_14</th>\n",
       "      <th>num_labels</th>\n",
       "    </tr>\n",
       "  </thead>\n",
       "  <tbody>\n",
       "    <tr>\n",
       "      <th>384</th>\n",
       "      <td>test review, should be deleted</td>\n",
       "      <td>refund not actioned positive</td>\n",
       "      <td>refund timescale positive</td>\n",
       "      <td>mobile fitter didn't arrive positive</td>\n",
       "      <td>change of time positive</td>\n",
       "      <td>discount not applied positive</td>\n",
       "      <td>tyre agedot code positive</td>\n",
       "      <td>failed payment positive</td>\n",
       "      <td>late notice positive</td>\n",
       "      <td>facilities positive</td>\n",
       "      <td>incorrect tyres sent positive</td>\n",
       "      <td>call wait time positive</td>\n",
       "      <td>refund positive</td>\n",
       "      <td>no stock positive</td>\n",
       "      <td>balancing positive</td>\n",
       "      <td>14</td>\n",
       "    </tr>\n",
       "  </tbody>\n",
       "</table>\n",
       "</div>"
      ],
      "text/plain": [
       "                       comment_text                      subsen_1  \\\n",
       "384  test review, should be deleted  refund not actioned positive   \n",
       "\n",
       "                      subsen_2                              subsen_3  \\\n",
       "384  refund timescale positive  mobile fitter didn't arrive positive   \n",
       "\n",
       "                    subsen_4                       subsen_5  \\\n",
       "384  change of time positive  discount not applied positive   \n",
       "\n",
       "                      subsen_6                 subsen_7              subsen_8  \\\n",
       "384  tyre agedot code positive  failed payment positive  late notice positive   \n",
       "\n",
       "                subsen_9                      subsen_10  \\\n",
       "384  facilities positive  incorrect tyres sent positive   \n",
       "\n",
       "                   subsen_11        subsen_12          subsen_13  \\\n",
       "384  call wait time positive  refund positive  no stock positive   \n",
       "\n",
       "              subsen_14  num_labels  \n",
       "384  balancing positive          14  "
      ]
     },
     "execution_count": 14,
     "metadata": {},
     "output_type": "execute_result"
    }
   ],
   "source": [
    "df[df['num_labels'] == 14]"
   ]
  },
  {
   "attachments": {},
   "cell_type": "markdown",
   "metadata": {},
   "source": [
    "# Remove entries with 14 labels\n",
    "We remove the entry that have 14 labels, as mentioned in the specific row.\n"
   ]
  },
  {
   "cell_type": "code",
   "execution_count": 16,
   "metadata": {},
   "outputs": [],
   "source": [
    "df.drop(384, inplace = True)"
   ]
  },
  {
   "cell_type": "code",
   "execution_count": 17,
   "metadata": {},
   "outputs": [
    {
     "data": {
      "text/plain": [
       "(10131, 16)"
      ]
     },
     "execution_count": 17,
     "metadata": {},
     "output_type": "execute_result"
    }
   ],
   "source": [
    "df.shape"
   ]
  },
  {
   "cell_type": "code",
   "execution_count": 18,
   "metadata": {},
   "outputs": [
    {
     "data": {
      "text/plain": [
       "Index(['comment_text', 'subsen_1', 'subsen_2', 'subsen_3', 'subsen_4',\n",
       "       'subsen_5', 'subsen_6', 'subsen_7', 'subsen_8', 'subsen_9', 'subsen_10',\n",
       "       'subsen_11', 'subsen_12', 'subsen_13', 'subsen_14', 'num_labels'],\n",
       "      dtype='object')"
      ]
     },
     "execution_count": 18,
     "metadata": {},
     "output_type": "execute_result"
    }
   ],
   "source": [
    "df.columns\n"
   ]
  },
  {
   "cell_type": "code",
   "execution_count": 52,
   "metadata": {},
   "outputs": [
    {
     "data": {
      "text/html": [
       "<div>\n",
       "<style scoped>\n",
       "    .dataframe tbody tr th:only-of-type {\n",
       "        vertical-align: middle;\n",
       "    }\n",
       "\n",
       "    .dataframe tbody tr th {\n",
       "        vertical-align: top;\n",
       "    }\n",
       "\n",
       "    .dataframe thead th {\n",
       "        text-align: right;\n",
       "    }\n",
       "</style>\n",
       "<table border=\"1\" class=\"dataframe\">\n",
       "  <thead>\n",
       "    <tr style=\"text-align: right;\">\n",
       "      <th></th>\n",
       "      <th>comment_text</th>\n",
       "      <th>subsen_1</th>\n",
       "      <th>subsen_2</th>\n",
       "      <th>subsen_3</th>\n",
       "      <th>subsen_4</th>\n",
       "      <th>subsen_5</th>\n",
       "      <th>subsen_6</th>\n",
       "      <th>subsen_7</th>\n",
       "      <th>subsen_8</th>\n",
       "      <th>subsen_9</th>\n",
       "      <th>subsen_10</th>\n",
       "      <th>subsen_11</th>\n",
       "      <th>subsen_12</th>\n",
       "      <th>subsen_13</th>\n",
       "      <th>subsen_14</th>\n",
       "      <th>num_labels</th>\n",
       "    </tr>\n",
       "  </thead>\n",
       "  <tbody>\n",
       "    <tr>\n",
       "      <th>0</th>\n",
       "      <td>Tires where delivered to the garage of my choi...</td>\n",
       "      <td>garage service positive</td>\n",
       "      <td>ease of booking positive</td>\n",
       "      <td></td>\n",
       "      <td></td>\n",
       "      <td></td>\n",
       "      <td></td>\n",
       "      <td></td>\n",
       "      <td></td>\n",
       "      <td></td>\n",
       "      <td></td>\n",
       "      <td></td>\n",
       "      <td></td>\n",
       "      <td></td>\n",
       "      <td></td>\n",
       "      <td>2</td>\n",
       "    </tr>\n",
       "    <tr>\n",
       "      <th>1</th>\n",
       "      <td>Easy Tyre Selection Process, Competitive Prici...</td>\n",
       "      <td>garage service positive</td>\n",
       "      <td>value for money positive</td>\n",
       "      <td></td>\n",
       "      <td></td>\n",
       "      <td></td>\n",
       "      <td></td>\n",
       "      <td></td>\n",
       "      <td></td>\n",
       "      <td></td>\n",
       "      <td></td>\n",
       "      <td></td>\n",
       "      <td></td>\n",
       "      <td></td>\n",
       "      <td></td>\n",
       "      <td>2</td>\n",
       "    </tr>\n",
       "    <tr>\n",
       "      <th>2</th>\n",
       "      <td>Very easy to use and good value for money.</td>\n",
       "      <td>value for money positive</td>\n",
       "      <td></td>\n",
       "      <td></td>\n",
       "      <td></td>\n",
       "      <td></td>\n",
       "      <td></td>\n",
       "      <td></td>\n",
       "      <td></td>\n",
       "      <td></td>\n",
       "      <td></td>\n",
       "      <td></td>\n",
       "      <td></td>\n",
       "      <td></td>\n",
       "      <td></td>\n",
       "      <td>1</td>\n",
       "    </tr>\n",
       "    <tr>\n",
       "      <th>3</th>\n",
       "      <td>Really easy and convenient to arrange</td>\n",
       "      <td>ease of booking positive</td>\n",
       "      <td></td>\n",
       "      <td></td>\n",
       "      <td></td>\n",
       "      <td></td>\n",
       "      <td></td>\n",
       "      <td></td>\n",
       "      <td></td>\n",
       "      <td></td>\n",
       "      <td></td>\n",
       "      <td></td>\n",
       "      <td></td>\n",
       "      <td></td>\n",
       "      <td></td>\n",
       "      <td>1</td>\n",
       "    </tr>\n",
       "    <tr>\n",
       "      <th>4</th>\n",
       "      <td>It was so easy to select tyre sizes and arrang...</td>\n",
       "      <td>location positive</td>\n",
       "      <td>value for money positive</td>\n",
       "      <td>ease of booking positive</td>\n",
       "      <td></td>\n",
       "      <td></td>\n",
       "      <td></td>\n",
       "      <td></td>\n",
       "      <td></td>\n",
       "      <td></td>\n",
       "      <td></td>\n",
       "      <td></td>\n",
       "      <td></td>\n",
       "      <td></td>\n",
       "      <td></td>\n",
       "      <td>3</td>\n",
       "    </tr>\n",
       "    <tr>\n",
       "      <th>...</th>\n",
       "      <td>...</td>\n",
       "      <td>...</td>\n",
       "      <td>...</td>\n",
       "      <td>...</td>\n",
       "      <td>...</td>\n",
       "      <td>...</td>\n",
       "      <td>...</td>\n",
       "      <td>...</td>\n",
       "      <td>...</td>\n",
       "      <td>...</td>\n",
       "      <td>...</td>\n",
       "      <td>...</td>\n",
       "      <td>...</td>\n",
       "      <td>...</td>\n",
       "      <td>...</td>\n",
       "      <td>...</td>\n",
       "    </tr>\n",
       "    <tr>\n",
       "      <th>10127</th>\n",
       "      <td>I ordered the wrong tyres, however [REDACTED] ...</td>\n",
       "      <td>refund positive</td>\n",
       "      <td>delivery punctuality positive</td>\n",
       "      <td>refund timescale positive</td>\n",
       "      <td></td>\n",
       "      <td></td>\n",
       "      <td></td>\n",
       "      <td></td>\n",
       "      <td></td>\n",
       "      <td></td>\n",
       "      <td></td>\n",
       "      <td></td>\n",
       "      <td></td>\n",
       "      <td></td>\n",
       "      <td></td>\n",
       "      <td>3</td>\n",
       "    </tr>\n",
       "    <tr>\n",
       "      <th>10128</th>\n",
       "      <td>Good experience, first time I have used [REDAC...</td>\n",
       "      <td>length of fitting positive</td>\n",
       "      <td></td>\n",
       "      <td></td>\n",
       "      <td></td>\n",
       "      <td></td>\n",
       "      <td></td>\n",
       "      <td></td>\n",
       "      <td></td>\n",
       "      <td></td>\n",
       "      <td></td>\n",
       "      <td></td>\n",
       "      <td></td>\n",
       "      <td></td>\n",
       "      <td></td>\n",
       "      <td>1</td>\n",
       "    </tr>\n",
       "    <tr>\n",
       "      <th>10129</th>\n",
       "      <td>I ordered the tyre I needed on line, booked a ...</td>\n",
       "      <td>location positive</td>\n",
       "      <td>delivery punctuality positive</td>\n",
       "      <td>length of fitting positive</td>\n",
       "      <td>value for money positive</td>\n",
       "      <td></td>\n",
       "      <td></td>\n",
       "      <td></td>\n",
       "      <td></td>\n",
       "      <td></td>\n",
       "      <td></td>\n",
       "      <td></td>\n",
       "      <td></td>\n",
       "      <td></td>\n",
       "      <td></td>\n",
       "      <td>4</td>\n",
       "    </tr>\n",
       "    <tr>\n",
       "      <th>10130</th>\n",
       "      <td>Excellent service from point of order to fitti...</td>\n",
       "      <td></td>\n",
       "      <td></td>\n",
       "      <td></td>\n",
       "      <td></td>\n",
       "      <td></td>\n",
       "      <td></td>\n",
       "      <td></td>\n",
       "      <td></td>\n",
       "      <td></td>\n",
       "      <td></td>\n",
       "      <td></td>\n",
       "      <td></td>\n",
       "      <td></td>\n",
       "      <td></td>\n",
       "      <td>0</td>\n",
       "    </tr>\n",
       "    <tr>\n",
       "      <th>10131</th>\n",
       "      <td>Seamless, well managed at both ends. I would r...</td>\n",
       "      <td></td>\n",
       "      <td></td>\n",
       "      <td></td>\n",
       "      <td></td>\n",
       "      <td></td>\n",
       "      <td></td>\n",
       "      <td></td>\n",
       "      <td></td>\n",
       "      <td></td>\n",
       "      <td></td>\n",
       "      <td></td>\n",
       "      <td></td>\n",
       "      <td></td>\n",
       "      <td></td>\n",
       "      <td>0</td>\n",
       "    </tr>\n",
       "  </tbody>\n",
       "</table>\n",
       "<p>10131 rows × 16 columns</p>\n",
       "</div>"
      ],
      "text/plain": [
       "                                            comment_text  \\\n",
       "0      Tires where delivered to the garage of my choi...   \n",
       "1      Easy Tyre Selection Process, Competitive Prici...   \n",
       "2             Very easy to use and good value for money.   \n",
       "3                  Really easy and convenient to arrange   \n",
       "4      It was so easy to select tyre sizes and arrang...   \n",
       "...                                                  ...   \n",
       "10127  I ordered the wrong tyres, however [REDACTED] ...   \n",
       "10128  Good experience, first time I have used [REDAC...   \n",
       "10129  I ordered the tyre I needed on line, booked a ...   \n",
       "10130  Excellent service from point of order to fitti...   \n",
       "10131  Seamless, well managed at both ends. I would r...   \n",
       "\n",
       "                         subsen_1                       subsen_2  \\\n",
       "0         garage service positive       ease of booking positive   \n",
       "1         garage service positive       value for money positive   \n",
       "2        value for money positive                                  \n",
       "3        ease of booking positive                                  \n",
       "4               location positive       value for money positive   \n",
       "...                           ...                            ...   \n",
       "10127             refund positive  delivery punctuality positive   \n",
       "10128  length of fitting positive                                  \n",
       "10129           location positive  delivery punctuality positive   \n",
       "10130                                                              \n",
       "10131                                                              \n",
       "\n",
       "                         subsen_3                  subsen_4 subsen_5 subsen_6  \\\n",
       "0                                                                               \n",
       "1                                                                               \n",
       "2                                                                               \n",
       "3                                                                               \n",
       "4        ease of booking positive                                               \n",
       "...                           ...                       ...      ...      ...   \n",
       "10127   refund timescale positive                                               \n",
       "10128                                                                           \n",
       "10129  length of fitting positive  value for money positive                     \n",
       "10130                                                                           \n",
       "10131                                                                           \n",
       "\n",
       "      subsen_7 subsen_8 subsen_9 subsen_10 subsen_11 subsen_12 subsen_13  \\\n",
       "0                                                                          \n",
       "1                                                                          \n",
       "2                                                                          \n",
       "3                                                                          \n",
       "4                                                                          \n",
       "...        ...      ...      ...       ...       ...       ...       ...   \n",
       "10127                                                                      \n",
       "10128                                                                      \n",
       "10129                                                                      \n",
       "10130                                                                      \n",
       "10131                                                                      \n",
       "\n",
       "      subsen_14  num_labels  \n",
       "0                         2  \n",
       "1                         2  \n",
       "2                         1  \n",
       "3                         1  \n",
       "4                         3  \n",
       "...         ...         ...  \n",
       "10127                     3  \n",
       "10128                     1  \n",
       "10129                     4  \n",
       "10130                     0  \n",
       "10131                     0  \n",
       "\n",
       "[10131 rows x 16 columns]"
      ]
     },
     "execution_count": 52,
     "metadata": {},
     "output_type": "execute_result"
    }
   ],
   "source": [
    "df"
   ]
  },
  {
   "attachments": {},
   "cell_type": "markdown",
   "metadata": {},
   "source": [
    "# Convert labels to binary format\n",
    "We use MultiLabelBinarizer to convert the labels to binary format due to the multi-label nd non sequential structure of the labels\n"
   ]
  },
  {
   "cell_type": "code",
   "execution_count": 22,
   "metadata": {},
   "outputs": [],
   "source": [
    "from sklearn.preprocessing import MultiLabelBinarizer\n",
    "\n",
    "# Extract labels from the DataFrame\n",
    "labels = df[['subsen_1', 'subsen_2', 'subsen_3', 'subsen_4', 'subsen_5', 'subsen_6', 'subsen_7', 'subsen_8', 'subsen_9', 'subsen_10', 'subsen_11', 'subsen_12', 'subsen_13', 'subsen_14']].apply(lambda x: x.dropna().tolist(), axis=1)\n",
    "\n",
    "# Initialize the MultiLabelBinarizer\n",
    "mlb = MultiLabelBinarizer()\n",
    "\n",
    "# Fit and transform the labels\n",
    "binary_labels = mlb.fit_transform(labels)\n",
    "\n",
    "# Get the unique labels\n",
    "unique_labels = mlb.classes_"
   ]
  },
  {
   "cell_type": "code",
   "execution_count": 23,
   "metadata": {},
   "outputs": [
    {
     "data": {
      "text/plain": [
       "(10131, 99)"
      ]
     },
     "execution_count": 23,
     "metadata": {},
     "output_type": "execute_result"
    }
   ],
   "source": [
    "binary_labels.shape"
   ]
  },
  {
   "cell_type": "code",
   "execution_count": 167,
   "metadata": {},
   "outputs": [
    {
     "data": {
      "text/plain": [
       "array([[1, 0, 0, ..., 0, 0, 0],\n",
       "       [1, 0, 0, ..., 1, 0, 0],\n",
       "       [1, 0, 0, ..., 1, 0, 0],\n",
       "       ...,\n",
       "       [1, 0, 0, ..., 1, 0, 0],\n",
       "       [1, 0, 0, ..., 0, 0, 0],\n",
       "       [1, 0, 0, ..., 0, 0, 0]])"
      ]
     },
     "execution_count": 167,
     "metadata": {},
     "output_type": "execute_result"
    }
   ],
   "source": [
    "binary_labels"
   ]
  },
  {
   "cell_type": "code",
   "execution_count": 51,
   "metadata": {},
   "outputs": [
    {
     "data": {
      "text/plain": [
       "array(['', ' Cheapest price',\n",
       "       ' Garage was quick & efficient with fitting of tyres',\n",
       "       ' Great garage fitted them',\n",
       "       ' ability to browse through various makes of tyres before making a decision',\n",
       "       ' and an excellent service from the garage who fitted the tyre.',\n",
       "       ' and both times have been good experiences.',\n",
       "       ' cheaper than anything else I have found by some way.',\n",
       "       ' clean reception area and free coffee',\n",
       "       ' easily navigable web site',\n",
       "       ' easy to browse selection of tyres before making a choice',\n",
       "       ' faster than dealerships to arrange supply and partnership with ATS works well .',\n",
       "       ' fitting took a long time.', ' good communication',\n",
       "       ' good local fitting services', ' good price', ' good prices',\n",
       "       ' good range and competitive prices on website', ' good service',\n",
       "       ' great price.', ' hassle free',\n",
       "       ' it feels more transparent than buying from a mechanic based on their opinion.',\n",
       "       ' keep it up! Will definitely buy from you again.',\n",
       "       ' my tyre supplier of choice!.',\n",
       "       \" one tyre with dangerously low air pressure. Asked the garage to top up the tyre and check the other three. They did top up the one tyre but didn't bother to check the others. When I checked the tyres 10 minutes later all four tyres had varying pressures (from 29 to 37.5). I emailed both companies and have not received an apology from either. I will never use Lavender Motors again (they shouldn't be in business) and likely not [REDACTED].com either.\",\n",
       "       ' only 8 as the garage was unable to fit the tyres in the allotted time and I had to wait over an hour.',\n",
       "       ' polite staff', ' prompt deliveries...',\n",
       "       ' really friendly and efficient service.', ' really good prices',\n",
       "       ' recommended a great local shop for fitting',\n",
       "       ' simple booking for fitting procedure.',\n",
       "       ' simple fitting procedure', ' simple to use website',\n",
       "       ' slick delivery service and good fitter.',\n",
       "       ' staff were courteous', ' telephone help avaiable if required.',\n",
       "       ' the process was simple and quick.Regular offers make it easy to find premium tyres at decent prices.',\n",
       "       ' the site is easy to use',\n",
       "       \" they looked grey and old (but unused) not at all how new tyres normally look. Not surprising when I inspected the 'Dot Date' and it was 4517 (ie tyres manufactured in week 45 of 2017.Queried this with [REDACTED] who told me that they have many different suppliers and do not check the age of the tyres.They could re-order but no guarantee that the replacements would be any newer. Not at all happy and requested a refund which they say they will do.\",\n",
       "       ' tje garage i choice to go to in order to have the tyres fitted was nit that good and i certainly will not be using them again.',\n",
       "       ' wide choice of tyres at great prices including delivery and fitting.',\n",
       "       ' won’t be using anyone else.', ')',\n",
       "       'advisor/agent service negative', 'advisor/agent service positive',\n",
       "       'advisoragent service negative', 'advisoragent service positive',\n",
       "       'balancing negative', 'balancing positive',\n",
       "       'booking confusion negative', 'booking confusion positive',\n",
       "       'call wait time negative', 'change of date negative',\n",
       "       'change of date positive', 'change of time negative',\n",
       "       'damage negative', 'delivery punctuality negative',\n",
       "       'delivery punctuality positive', 'discount not applied negative',\n",
       "       'discounts negative', 'discounts positive',\n",
       "       'ease of booking negative', 'ease of booking positive',\n",
       "       'extra charges negative', 'extra charges positive',\n",
       "       'facilities negative', 'facilities positive',\n",
       "       'failed payment negative', 'garage service negative',\n",
       "       'garage service positive', 'incorrect tyres sent negative',\n",
       "       'incorrect tyres sent positive', 'late notice negative',\n",
       "       'length of fitting negative', 'length of fitting positive',\n",
       "       'location negative', 'location positive',\n",
       "       \"mobile fitter didn't arrive negative\", 'mobile fitter negative',\n",
       "       'mobile fitter positive', 'no issues', 'no stock negative',\n",
       "       'refund negative', 'refund not actioned negative',\n",
       "       'refund positive', 'refund timescale negative',\n",
       "       'refund timescale positive', 'response time negative',\n",
       "       'response time positive', 'tyre age/dot code negative',\n",
       "       'tyre agedot code negative', 'tyre agedot code positive',\n",
       "       'tyre quality negative', 'tyre quality positive',\n",
       "       'value for money negative', 'value for money positive',\n",
       "       'wait time negative', 'wait time positive'], dtype=object)"
      ]
     },
     "execution_count": 51,
     "metadata": {},
     "output_type": "execute_result"
    }
   ],
   "source": [
    "unique_labels"
   ]
  },
  {
   "cell_type": "code",
   "execution_count": 26,
   "metadata": {},
   "outputs": [
    {
     "data": {
      "text/plain": [
       "Index(['comment_text', 'subsen_1', 'subsen_2', 'subsen_3', 'subsen_4',\n",
       "       'subsen_5', 'subsen_6', 'subsen_7', 'subsen_8', 'subsen_9', 'subsen_10',\n",
       "       'subsen_11', 'subsen_12', 'subsen_13', 'subsen_14', 'num_labels'],\n",
       "      dtype='object')"
      ]
     },
     "execution_count": 26,
     "metadata": {},
     "output_type": "execute_result"
    }
   ],
   "source": [
    "df.columns"
   ]
  },
  {
   "cell_type": "code",
   "execution_count": 150,
   "metadata": {},
   "outputs": [],
   "source": [
    "X = df[df.columns[0]]\n",
    "y = binary_labels"
   ]
  },
  {
   "cell_type": "code",
   "execution_count": 151,
   "metadata": {},
   "outputs": [
    {
     "data": {
      "text/plain": [
       "array([[1, 0, 0, ..., 0, 0, 0],\n",
       "       [1, 0, 0, ..., 1, 0, 0],\n",
       "       [1, 0, 0, ..., 1, 0, 0],\n",
       "       ...,\n",
       "       [1, 0, 0, ..., 1, 0, 0],\n",
       "       [1, 0, 0, ..., 0, 0, 0],\n",
       "       [1, 0, 0, ..., 0, 0, 0]])"
      ]
     },
     "execution_count": 151,
     "metadata": {},
     "output_type": "execute_result"
    }
   ],
   "source": [
    "y"
   ]
  },
  {
   "attachments": {},
   "cell_type": "markdown",
   "metadata": {},
   "source": [
    "# Tokenize the text\n",
    "We tokenize the text data to prepare it for model training."
   ]
  },
  {
   "cell_type": "code",
   "execution_count": 152,
   "metadata": {},
   "outputs": [
    {
     "name": "stdout",
     "output_type": "stream",
     "text": [
      "Total unique words: 7237\n"
     ]
    }
   ],
   "source": [
    "from tensorflow.keras.layers import TextVectorization\n",
    "tokenizer = tf.keras.preprocessing.text.Tokenizer()\n",
    "tokenizer.fit_on_texts(X.values)\n",
    "\n",
    "# Get the total number of unique words\n",
    "total_unique_words = len(tokenizer.word_index)\n",
    "print(\"Total unique words:\", total_unique_words)"
   ]
  },
  {
   "cell_type": "code",
   "execution_count": 153,
   "metadata": {},
   "outputs": [],
   "source": [
    "MAX_FEATURES = 10000\n",
    "vectorizer = TextVectorization(max_tokens=MAX_FEATURES, output_sequence_length=200, output_mode='int')\n",
    "vectorizer.adapt(X.values)\n",
    "vectorized_text = vectorizer(X.values)"
   ]
  },
  {
   "attachments": {},
   "cell_type": "markdown",
   "metadata": {},
   "source": [
    "# Create a TensorFlow dataset\n",
    "We create a TensorFlow dataset from the vectorized text and binary labels.\n"
   ]
  },
  {
   "cell_type": "code",
   "execution_count": 154,
   "metadata": {},
   "outputs": [],
   "source": [
    "dataset = tf.data.Dataset.from_tensor_slices((vectorized_text, y))\n",
    "dataset = dataset.cache()\n",
    "dataset = dataset.shuffle(11000)\n",
    "dataset = dataset.batch(16)\n",
    "dataset = dataset.prefetch(8)"
   ]
  },
  {
   "cell_type": "code",
   "execution_count": 155,
   "metadata": {},
   "outputs": [],
   "source": [
    "train = dataset.take(int(len(dataset)*.7))\n",
    "val = dataset.skip(int(len(dataset)*.7)).take(int(len(dataset)*.2))\n",
    "test = dataset.skip(int(len(dataset)*.9)).take(int(len(dataset)*.1))"
   ]
  },
  {
   "attachments": {},
   "cell_type": "markdown",
   "metadata": {},
   "source": [
    "# Build the model\n",
    "We build a sequential neural network model with embedding, LSTM, and dense layers.\n"
   ]
  },
  {
   "cell_type": "code",
   "execution_count": 156,
   "metadata": {},
   "outputs": [],
   "source": [
    "from tensorflow.keras.models import Sequential\n",
    "from tensorflow.keras.layers import LSTM, Dropout, Bidirectional, Dense, Embedding"
   ]
  },
  {
   "cell_type": "code",
   "execution_count": 157,
   "metadata": {},
   "outputs": [],
   "source": [
    "model = Sequential()\n",
    "# Create the embedding layer\n",
    "model.add(Embedding(MAX_FEATURES+1, 32))\n",
    "# Bidirectional LSTM Layer\n",
    "model.add(Bidirectional(LSTM(32, activation='tanh')))\n",
    "# Feature extractor Fully connected layers\n",
    "model.add(Dense(128, activation='relu'))\n",
    "model.add(Dense(256, activation='relu'))\n",
    "model.add(Dense(128, activation='relu'))\n",
    "# Final layer\n",
    "model.add(Dense(99, activation='sigmoid'))"
   ]
  },
  {
   "cell_type": "code",
   "execution_count": 158,
   "metadata": {},
   "outputs": [],
   "source": [
    "model.compile(loss='BinaryCrossentropy', optimizer='adam', metrics = ['accuracy'])"
   ]
  },
  {
   "attachments": {},
   "cell_type": "markdown",
   "metadata": {},
   "source": [
    "# Train the model\n",
    "We train the model on the training dataset and validate it on the validation dataset.\n"
   ]
  },
  {
   "cell_type": "code",
   "execution_count": 159,
   "metadata": {},
   "outputs": [
    {
     "name": "stdout",
     "output_type": "stream",
     "text": [
      "Epoch 1/3\n"
     ]
    },
    {
     "name": "stdout",
     "output_type": "stream",
     "text": [
      "443/443 [==============================] - 81s 163ms/step - loss: 0.0725 - accuracy: 0.9929 - val_loss: 0.0403 - val_accuracy: 1.0000\n",
      "Epoch 2/3\n",
      "443/443 [==============================] - 42s 94ms/step - loss: 0.0386 - accuracy: 1.0000 - val_loss: 0.0341 - val_accuracy: 1.0000\n",
      "Epoch 3/3\n",
      "443/443 [==============================] - 39s 89ms/step - loss: 0.0341 - accuracy: 1.0000 - val_loss: 0.0319 - val_accuracy: 1.0000\n"
     ]
    },
    {
     "data": {
      "text/plain": [
       "<keras.src.callbacks.History at 0x2b804831b70>"
      ]
     },
     "execution_count": 159,
     "metadata": {},
     "output_type": "execute_result"
    }
   ],
   "source": [
    "model.fit(train, epochs=3, validation_data=val)"
   ]
  },
  {
   "attachments": {},
   "cell_type": "markdown",
   "metadata": {},
   "source": [
    "# Evaluate the model\n",
    "We evaluate the model on the test dataset.\n"
   ]
  },
  {
   "cell_type": "code",
   "execution_count": 160,
   "metadata": {},
   "outputs": [
    {
     "name": "stdout",
     "output_type": "stream",
     "text": [
      "63/63 [==============================] - 1s 19ms/step - loss: 0.0319 - accuracy: 1.0000\n"
     ]
    },
    {
     "data": {
      "text/plain": [
       "[0.03194938227534294, 1.0]"
      ]
     },
     "execution_count": 160,
     "metadata": {},
     "output_type": "execute_result"
    }
   ],
   "source": [
    "model.evaluate(test)"
   ]
  },
  {
   "attachments": {},
   "cell_type": "markdown",
   "metadata": {},
   "source": [
    "# Save and load the model\n",
    "We save the trained model and then load it for prediction.\n"
   ]
  },
  {
   "cell_type": "code",
   "execution_count": 175,
   "metadata": {},
   "outputs": [
    {
     "name": "stderr",
     "output_type": "stream",
     "text": [
      "c:\\Users\\HP\\AppData\\Local\\Programs\\Python\\Python310\\lib\\site-packages\\keras\\src\\engine\\training.py:3103: UserWarning: You are saving your model as an HDF5 file via `model.save()`. This file format is considered legacy. We recommend using instead the native Keras format, e.g. `model.save('my_model.keras')`.\n",
      "  saving_api.save_model(\n"
     ]
    }
   ],
   "source": [
    "model.save('subtheme_sentiment.h5')"
   ]
  },
  {
   "cell_type": "code",
   "execution_count": 176,
   "metadata": {},
   "outputs": [],
   "source": [
    "mdl = tf.keras.models.load_model('subtheme_sentiment.h5')"
   ]
  },
  {
   "attachments": {},
   "cell_type": "markdown",
   "metadata": {},
   "source": [
    "# Make a prediction\n",
    "We make a prediction on a sample input and print the rounded results.\n"
   ]
  },
  {
   "cell_type": "code",
   "execution_count": 196,
   "metadata": {},
   "outputs": [],
   "source": [
    "input_str = vectorizer(\"Great price and easy to use\")"
   ]
  },
  {
   "cell_type": "code",
   "execution_count": 197,
   "metadata": {},
   "outputs": [
    {
     "name": "stdout",
     "output_type": "stream",
     "text": [
      "1/1 [==============================] - 0s 32ms/step\n"
     ]
    }
   ],
   "source": [
    "res = mdl.predict(np.expand_dims(input_str,0))"
   ]
  },
  {
   "cell_type": "code",
   "execution_count": 198,
   "metadata": {},
   "outputs": [
    {
     "data": {
      "text/plain": [
       "array([[9.99999404e-01, 9.04504759e-06, 2.52163281e-05, 1.88177073e-05,\n",
       "        9.55528521e-05, 4.99582493e-05, 2.17402539e-05, 6.89228618e-05,\n",
       "        2.98056079e-07, 7.46050937e-05, 3.76551498e-06, 6.60081350e-05,\n",
       "        2.44110088e-05, 2.45509946e-05, 5.49552133e-05, 2.53012640e-05,\n",
       "        8.14601153e-05, 7.28254554e-06, 1.31625336e-06, 2.32204493e-05,\n",
       "        1.70670810e-05, 3.83730867e-06, 6.67031281e-06, 2.40793379e-05,\n",
       "        1.25777879e-05, 6.65243624e-06, 2.74129252e-06, 6.97393043e-05,\n",
       "        4.26817587e-06, 4.37325895e-07, 1.78307291e-05, 9.41745952e-07,\n",
       "        3.94700546e-05, 2.70587207e-05, 1.24826229e-05, 6.12002186e-05,\n",
       "        3.95770940e-06, 2.56510139e-05, 2.24398173e-06, 1.13203541e-05,\n",
       "        8.91313175e-05, 1.18354510e-05, 7.76586830e-07, 6.51616938e-05,\n",
       "        3.99959134e-07, 4.19400306e-03, 3.24039975e-05, 2.04089354e-03,\n",
       "        1.56000504e-04, 2.43248887e-05, 2.34287581e-05, 2.74571576e-05,\n",
       "        1.09077573e-05, 1.04475812e-05, 9.98140968e-06, 6.80396124e-06,\n",
       "        7.55903384e-05, 1.88938611e-05, 1.18569918e-02, 2.87139883e-05,\n",
       "        2.13254258e-04, 3.66666727e-03, 2.24514821e-04, 1.33570647e-02,\n",
       "        3.35406767e-05, 3.67443939e-03, 3.12754477e-04, 3.23495682e-04,\n",
       "        9.41389487e-07, 2.56928761e-04, 2.36505512e-02, 1.41191167e-05,\n",
       "        2.24671084e-07, 2.55665304e-06, 1.00000856e-04, 6.50181761e-03,\n",
       "        5.37396525e-04, 1.49476826e-02, 1.64003984e-06, 1.08039194e-05,\n",
       "        1.11664541e-03, 1.19869052e-04, 4.37780218e-05, 7.76085835e-06,\n",
       "        1.53852989e-06, 6.56773627e-05, 1.19832293e-06, 8.68778370e-05,\n",
       "        6.18514207e-07, 1.36509596e-04, 3.55894590e-05, 1.53064775e-05,\n",
       "        3.19503101e-06, 1.88620688e-05, 4.33916785e-02, 4.80907271e-03,\n",
       "        9.77464318e-01, 3.34891520e-05, 1.48978038e-03]], dtype=float32)"
      ]
     },
     "execution_count": 198,
     "metadata": {},
     "output_type": "execute_result"
    }
   ],
   "source": [
    "res"
   ]
  },
  {
   "cell_type": "code",
   "execution_count": 199,
   "metadata": {},
   "outputs": [
    {
     "data": {
      "text/plain": [
       "array([[1, 0, 0, 0, 0, 0, 0, 0, 0, 0, 0, 0, 0, 0, 0, 0, 0, 0, 0, 0, 0, 0,\n",
       "        0, 0, 0, 0, 0, 0, 0, 0, 0, 0, 0, 0, 0, 0, 0, 0, 0, 0, 0, 0, 0, 0,\n",
       "        0, 0, 0, 0, 0, 0, 0, 0, 0, 0, 0, 0, 0, 0, 0, 0, 0, 0, 0, 0, 0, 0,\n",
       "        0, 0, 0, 0, 0, 0, 0, 0, 0, 0, 0, 0, 0, 0, 0, 0, 0, 0, 0, 0, 0, 0,\n",
       "        0, 0, 0, 0, 0, 0, 0, 0, 1, 0, 0]])"
      ]
     },
     "execution_count": 199,
     "metadata": {},
     "output_type": "execute_result"
    }
   ],
   "source": [
    "np.round(res).astype(int)"
   ]
  },
  {
   "cell_type": "code",
   "execution_count": 201,
   "metadata": {},
   "outputs": [
    {
     "name": "stdout",
     "output_type": "stream",
     "text": [
      "1/1 [==============================] - 0s 30ms/step\n",
      "value for money positive\n"
     ]
    }
   ],
   "source": [
    "res = mdl.predict(np.expand_dims(input_str,0))\n",
    "rounded_res = np.round(res)\n",
    "predicted_label_text = mlb.inverse_transform(rounded_res)[0]\n",
    "\n",
    "# Exclude the first element\n",
    "predicted_labels_except_first = predicted_label_text[1:]\n",
    "\n",
    "# Format the output as a string\n",
    "output_str = \", \".join(predicted_labels_except_first)\n",
    "\n",
    "print(output_str)"
   ]
  },
  {
   "attachments": {},
   "cell_type": "markdown",
   "metadata": {},
   "source": [
    "# Make another prediction\n",
    "We make another prediction on a sample input and print the rounded results.\n"
   ]
  },
  {
   "cell_type": "code",
   "execution_count": 202,
   "metadata": {},
   "outputs": [
    {
     "name": "stdout",
     "output_type": "stream",
     "text": [
      "1/1 [==============================] - 0s 96ms/step\n",
      "location positive, value for money positive\n"
     ]
    }
   ],
   "source": [
    "input_str = vectorizer(\"Competitively priced and easy to use fitting centre near me who were very professional.\")\n",
    "res = mdl.predict(np.expand_dims(input_str,0))\n",
    "rounded_res = np.round(res)\n",
    "predicted_label_text = mlb.inverse_transform(rounded_res)[0]\n",
    "predicted_labels_except_first = predicted_label_text[1:]\n",
    "output_str = \", \".join(predicted_labels_except_first)\n",
    "print(output_str)"
   ]
  },
  {
   "attachments": {},
   "cell_type": "markdown",
   "metadata": {},
   "source": [
    "# Summary and Conclusion\n",
    "Thus we see the desired outputs in the format of 'subtheme sentiment'. This notebook covers the process of loading and preprocessing a dataset, building and training a machine learning model for sentiment analysis, and testing the model with sample inputs. Despite achieving high accuracy during training and evaluation, the model's performance on individual predictions suggests areas for improvement and issues which could be well resolved using transfer learning. Further steps could include refining/tuning the model, improving the data preprocessing steps, and conducting a more thorough analysis of the model's predictions."
   ]
  }
 ],
 "metadata": {
  "kernelspec": {
   "display_name": "Python 3",
   "language": "python",
   "name": "python3"
  },
  "language_info": {
   "codemirror_mode": {
    "name": "ipython",
    "version": 3
   },
   "file_extension": ".py",
   "mimetype": "text/x-python",
   "name": "python",
   "nbconvert_exporter": "python",
   "pygments_lexer": "ipython3",
   "version": "3.10.1"
  },
  "orig_nbformat": 4
 },
 "nbformat": 4,
 "nbformat_minor": 2
}
